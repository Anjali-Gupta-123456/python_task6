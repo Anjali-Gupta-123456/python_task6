{
 "cells": [
  {
   "cell_type": "code",
   "execution_count": 1,
   "id": "2149ef55-a17b-47ca-8f0f-d0cc28b7b143",
   "metadata": {},
   "outputs": [
    {
     "name": "stdout",
     "output_type": "stream",
     "text": [
      "{'userId': 1, 'name': 'user1', 'age': 24, 'age_category': 'adult'}\n"
     ]
    }
   ],
   "source": [
    "def user_data(user_id, name, age):\n",
    "    if age < 13:\n",
    "        age_category = 'child'\n",
    "    elif 13 <= age < 20:\n",
    "        age_category = 'teen'\n",
    "    elif 20 <= age < 60:\n",
    "        age_category = 'adult'\n",
    "    else:\n",
    "        age_category = 'senior'\n",
    "    \n",
    "    user_data = {\n",
    "        'userId': user_id,\n",
    "        'name': name,\n",
    "        'age': age,\n",
    "        'age_category': age_category\n",
    "    }\n",
    "    \n",
    "    return user_data\n",
    "\n",
    "\n",
    "user_data = user_data(1, 'user1', 24)\n",
    "print(user_data)\n"
   ]
  },
  {
   "cell_type": "code",
   "execution_count": null,
   "id": "f26c8473-5e7e-4c62-9b81-0fc6b947f9d4",
   "metadata": {},
   "outputs": [],
   "source": []
  }
 ],
 "metadata": {
  "kernelspec": {
   "display_name": "Python 3 (ipykernel)",
   "language": "python",
   "name": "python3"
  },
  "language_info": {
   "codemirror_mode": {
    "name": "ipython",
    "version": 3
   },
   "file_extension": ".py",
   "mimetype": "text/x-python",
   "name": "python",
   "nbconvert_exporter": "python",
   "pygments_lexer": "ipython3",
   "version": "3.12.4"
  }
 },
 "nbformat": 4,
 "nbformat_minor": 5
}
